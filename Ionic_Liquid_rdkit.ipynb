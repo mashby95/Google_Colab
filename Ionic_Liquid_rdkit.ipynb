{
  "nbformat": 4,
  "nbformat_minor": 0,
  "metadata": {
    "colab": {
      "provenance": [],
      "authorship_tag": "ABX9TyNg6u+2T/OX8jANIPMKmrGN",
      "include_colab_link": true
    },
    "kernelspec": {
      "name": "python3",
      "display_name": "Python 3"
    },
    "language_info": {
      "name": "python"
    }
  },
  "cells": [
    {
      "cell_type": "markdown",
      "metadata": {
        "id": "view-in-github",
        "colab_type": "text"
      },
      "source": [
        "<a href=\"https://colab.research.google.com/github/mashby95/Google_Colab/blob/main/Ionic_Liquid_rdkit.ipynb\" target=\"_parent\"><img src=\"https://colab.research.google.com/assets/colab-badge.svg\" alt=\"Open In Colab\"/></a>"
      ]
    },
    {
      "cell_type": "code",
      "execution_count": null,
      "metadata": {
        "colab": {
          "base_uri": "https://localhost:8080/"
        },
        "id": "lgplvuhR2qM2",
        "outputId": "b8327a3f-66db-46df-8270-64d750e5e804"
      },
      "outputs": [
        {
          "output_type": "stream",
          "name": "stdout",
          "text": [
            "Collecting rdkit-pypi\n",
            "  Downloading rdkit_pypi-2022.9.5-cp310-cp310-manylinux_2_17_x86_64.manylinux2014_x86_64.whl (29.4 MB)\n",
            "\u001b[2K     \u001b[90m━━━━━━━━━━━━━━━━━━━━━━━━━━━━━━━━━━━━━━━━\u001b[0m \u001b[32m29.4/29.4 MB\u001b[0m \u001b[31m54.7 MB/s\u001b[0m eta \u001b[36m0:00:00\u001b[0m\n",
            "\u001b[?25hRequirement already satisfied: numpy in /usr/local/lib/python3.10/dist-packages (from rdkit-pypi) (1.23.5)\n",
            "Requirement already satisfied: Pillow in /usr/local/lib/python3.10/dist-packages (from rdkit-pypi) (9.4.0)\n",
            "Installing collected packages: rdkit-pypi\n",
            "Successfully installed rdkit-pypi-2022.9.5\n"
          ]
        }
      ],
      "source": [
        "!pip install rdkit-pypi"
      ]
    },
    {
      "cell_type": "code",
      "source": [
        "import numpy as np\n",
        "import torch\n",
        "from torch.utils.data import Dataset, DataLoader\n",
        "from PIL import Image\n",
        "import pandas as pd\n",
        "import sys\n",
        "import time\n",
        "import os\n",
        "from rdkit import Chem\n",
        "from rdkit.Chem import rdPartialCharges\n",
        "from rdkit.Chem import Crippen\n",
        "from rdkit.Chem.Draw import IPythonConsole\n",
        "from rdkit.Chem import Draw\n",
        "from rdkit.Chem import MolSurf\n",
        "from rdkit.Chem import rdMolDescriptors\n",
        "from rdkit.Chem.Draw import rdMolDraw2D\n",
        "from rdkit.Chem import PandasTools\n",
        "from rdkit import RDConfig\n",
        "from rdkit.Chem import rdmolfiles\n",
        "from rdkit.Chem import rdmolops\n",
        "from IPython.display import Image, display\n",
        "import rdkit\n",
        "import numpy as np\n",
        "from rdkit import Chem\n",
        "from rdkit.Chem import AllChem\n",
        "import logging as log\n",
        "from rdkit.Chem.Draw import IPythonConsole\n",
        "from rdkit.Chem import Draw\n",
        "from rdkit.Chem.Draw import rdMolDraw2D\n",
        "import pandas as pd\n",
        "\n",
        "from sklearn.utils import shuffle"
      ],
      "metadata": {
        "id": "2ZmLrIVp2tor"
      },
      "execution_count": null,
      "outputs": []
    },
    {
      "cell_type": "code",
      "source": [
        "m = Chem.MolFromSmiles('CCCCCCCCCCN1C=C[N+](=C1C)CCCCCCCCCC.[B-](F)(F)(F)F')\n",
        "rdPartialCharges.ComputeGasteigerCharges(m)\n",
        "'''for atom in m.GetAtoms():\n",
        "    atom.SetAtomMapNum(atom.GetIdx())\n",
        "    print(atom, rdPartialCharges.ComputeGasteigerCharges(m) )'''\n",
        "adj_matrix = rdmolops.GetAdjacencyMatrix(m)"
      ],
      "metadata": {
        "id": "R6vzxFzP2tql"
      },
      "execution_count": null,
      "outputs": []
    },
    {
      "cell_type": "code",
      "source": [
        "IPythonConsole.drawOptions.addAtomIndices = True\n",
        "IPythonConsole.molSize = 300,300\n",
        "m"
      ],
      "metadata": {
        "colab": {
          "base_uri": "https://localhost:8080/",
          "height": 317
        },
        "id": "s_KKSEJDVop6",
        "outputId": "70e363b9-430f-460f-cf60-ffed7e3f5b9f"
      },
      "execution_count": null,
      "outputs": [
        {
          "output_type": "execute_result",
          "data": {
            "text/plain": [
              "<rdkit.Chem.rdchem.Mol at 0x7fe4a05113f0>"
            ],
            "image/png": "[encoded data removed]"
          },
          "metadata": {},
          "execution_count": 4
        }
      ]
    },
    {
      "cell_type": "code",
      "source": [
        "#Chem.rdmolfiles.MolToXYZFile(m, 'testfile')"
      ],
      "metadata": {
        "id": "0ekPLUFWHZBU"
      },
      "execution_count": null,
      "outputs": []
    },
    {
      "cell_type": "code",
      "source": [
        "def makeAtomVecMatrix(rdk_mol):\n",
        "        atoms = rdk_mol.GetAtoms()\n",
        "        AVM = []\n",
        "        #returns matrix with atom Vecs for each atom in molecule\n",
        "        counter = 0\n",
        "        logP_MR = rdMolDescriptors._CalcCrippenContribs(rdk_mol)\n",
        "        ASA = list(rdMolDescriptors._CalcLabuteASAContribs(rdk_mol)[0])\n",
        "        TPSA = rdMolDescriptors._CalcTPSAContribs(rdk_mol)\n",
        "        for atom in atoms:\n",
        "            logP, MR  = logP_MR[counter]\n",
        "            tpsa = TPSA[counter]\n",
        "            asa = ASA[counter]\n",
        "            id = int(atom.GetIdx())\n",
        "            charge = atom.GetDoubleProp('_GasteigerCharge')\n",
        "            an = atom.GetAtomicNum()\n",
        "            tv = atom.GetTotalValence()\n",
        "            AVM.append([id, an, tv, charge, logP, MR, tpsa, asa])\n",
        "            counter = counter + 1\n",
        "        return np.array(AVM)\n",
        "\n",
        "def get_3d_mols(smiles_strs):\n",
        "    \"\"\"\n",
        "    Convert SMILES strings to Mol objects with explicit hydrogens and 3D coordinates\n",
        "\n",
        "    Args:\n",
        "        smiles_strs (iterable of str): List of SMILES strings to convert\n",
        "\n",
        "    Returns:\n",
        "        tuple (mols, is_valid):\n",
        "            mols (ndarray of Mol): Mol objects for valid SMILES strings only\n",
        "            is_valid (ndarray of bool): True for each input SMILES string that was valid according to RDKit\n",
        "\n",
        "    \"\"\"\n",
        "    log.debug('Converting SMILES to RDKit Mols')\n",
        "    nsmiles = len(smiles_strs)\n",
        "    mols = [None]*nsmiles\n",
        "    for i, smi in enumerate(smiles_strs):\n",
        "        try:\n",
        "            mols[i] = Chem.MolFromSmiles(smi)\n",
        "        except TypeError:\n",
        "            pass\n",
        "\n",
        "    log.debug('Adding hydrogens to mols')\n",
        "    mols = [Chem.AddHs(m) if m is not None else None for m in mols]\n",
        "    log.debug('Computing 3D coordinates')\n",
        "    for i, m in enumerate(mols):\n",
        "        if m is not None:\n",
        "            try:\n",
        "                AllChem.EmbedMolecule(m)\n",
        "            except RuntimeError:\n",
        "                # This sometimes fails in the RDKit code. Give up on this molecule.\n",
        "                mols[i] = None\n",
        "    is_valid = np.array([(m is not None) for m in mols], dtype=bool)\n",
        "    mols = np.array(mols)[is_valid]\n",
        "    return mols, is_valid"
      ],
      "metadata": {
        "id": "t76U2Cl12tsV"
      },
      "execution_count": null,
      "outputs": []
    },
    {
      "cell_type": "code",
      "source": [
        "#df = pd.DataFrame()\n",
        "smiles_list = ['CCCCCCCCCCN1C=C[N+](=C1C)CCCCCCCCCC']\n",
        "mols = get_3d_mols(smiles_list)\n",
        "m = m = mols[0][0]\n",
        "print(m)\n",
        "rdPartialCharges.ComputeGasteigerCharges(m)\n",
        "mol_matrix = makeAtomVecMatrix(m)\n",
        "\n",
        "\n",
        "IPythonConsole.drawOptions.addAtomIndices = True\n",
        "IPythonConsole.molSize = 600,300\n",
        "display(m)\n",
        "\n",
        "#df = pd.concat([df, pd.DataFrame(mol_matrix)])\n",
        "for row in mol_matrix:\n",
        "  if row[1] == 1:\n",
        "    print(row)\n",
        "\n",
        "\n",
        "\n",
        "\n"
      ],
      "metadata": {
        "id": "6DJLTDCr2tuZ",
        "colab": {
          "base_uri": "https://localhost:8080/",
          "height": 1000
        },
        "outputId": "60f94c05-06bb-46a5-9c24-6b00a9aff731"
      },
      "execution_count": null,
      "outputs": [
        {
          "output_type": "stream",
          "name": "stdout",
          "text": [
            "<rdkit.Chem.rdchem.Mol object at 0x7fe3bdd89150>\n"
          ]
        },
        {
          "output_type": "display_data",
          "data": {
            "text/plain": [
              "<rdkit.Chem.rdchem.Mol at 0x7fe3bdd89150>"
            ],
            "image/png": "[encoded data removed]"
          },
          "metadata": {}
        },
        {
          "output_type": "stream",
          "name": "stdout",
          "text": [
            "[2.60000000e+01 1.00000000e+00 1.00000000e+00 2.30353325e-02\n",
            " 1.23000000e-01 1.05700000e+00 0.00000000e+00 1.37075856e+00]\n",
            "[2.70000000e+01 1.00000000e+00 1.00000000e+00 2.30353325e-02\n",
            " 1.23000000e-01 1.05700000e+00 0.00000000e+00 1.37075856e+00]\n",
            "[2.80000000e+01 1.00000000e+00 1.00000000e+00 2.30353325e-02\n",
            " 1.23000000e-01 1.05700000e+00 0.00000000e+00 1.37075856e+00]\n",
            "[2.90000000e+01 1.00000000e+00 1.00000000e+00 2.63707569e-02\n",
            " 1.23000000e-01 1.05700000e+00 0.00000000e+00 1.37075856e+00]\n",
            "[3.00000000e+01 1.00000000e+00 1.00000000e+00 2.63707569e-02\n",
            " 1.23000000e-01 1.05700000e+00 0.00000000e+00 1.37075856e+00]\n",
            "[3.10000000e+01 1.00000000e+00 1.00000000e+00 2.66428768e-02\n",
            " 1.23000000e-01 1.05700000e+00 0.00000000e+00 1.37075856e+00]\n",
            "[3.20000000e+01 1.00000000e+00 1.00000000e+00 2.66428768e-02\n",
            " 1.23000000e-01 1.05700000e+00 0.00000000e+00 1.37075856e+00]\n",
            "[3.30000000e+01 1.00000000e+00 1.00000000e+00 2.66528183e-02\n",
            " 1.23000000e-01 1.05700000e+00 0.00000000e+00 1.37075856e+00]\n",
            "[3.40000000e+01 1.00000000e+00 1.00000000e+00 2.66528183e-02\n",
            " 1.23000000e-01 1.05700000e+00 0.00000000e+00 1.37075856e+00]\n",
            "[3.50000000e+01 1.00000000e+00 1.00000000e+00 2.66529851e-02\n",
            " 1.23000000e-01 1.05700000e+00 0.00000000e+00 1.37075856e+00]\n",
            "[3.60000000e+01 1.00000000e+00 1.00000000e+00 2.66529851e-02\n",
            " 1.23000000e-01 1.05700000e+00 0.00000000e+00 1.37075856e+00]\n",
            "[3.70000000e+01 1.00000000e+00 1.00000000e+00 2.66530060e-02\n",
            " 1.23000000e-01 1.05700000e+00 0.00000000e+00 1.37075856e+00]\n",
            "[3.80000000e+01 1.00000000e+00 1.00000000e+00 2.66530060e-02\n",
            " 1.23000000e-01 1.05700000e+00 0.00000000e+00 1.37075856e+00]\n",
            "[3.90000000e+01 1.00000000e+00 1.00000000e+00 2.66554614e-02\n",
            " 1.23000000e-01 1.05700000e+00 0.00000000e+00 1.37075856e+00]\n",
            "[4.00000000e+01 1.00000000e+00 1.00000000e+00 2.66554614e-02\n",
            " 1.23000000e-01 1.05700000e+00 0.00000000e+00 1.37075856e+00]\n",
            "[4.10000000e+01 1.00000000e+00 1.00000000e+00 2.68003504e-02\n",
            " 1.23000000e-01 1.05700000e+00 0.00000000e+00 1.37075856e+00]\n",
            "[4.20000000e+01 1.00000000e+00 1.00000000e+00 2.68003504e-02\n",
            " 1.23000000e-01 1.05700000e+00 0.00000000e+00 1.37075856e+00]\n",
            "[4.30000000e+01 1.00000000e+00 1.00000000e+00 3.06797244e-02\n",
            " 1.23000000e-01 1.05700000e+00 0.00000000e+00 1.37075856e+00]\n",
            "[4.40000000e+01 1.00000000e+00 1.00000000e+00 3.06797244e-02\n",
            " 1.23000000e-01 1.05700000e+00 0.00000000e+00 1.37075856e+00]\n",
            "[45.          1.          1.          0.07589511  0.123       1.057\n",
            "  0.          1.37075856]\n",
            "[46.          1.          1.          0.07589511  0.123       1.057\n",
            "  0.          1.37075856]\n",
            "[47.          1.          1.          0.11354509  0.123       1.057\n",
            "  0.          1.37075856]\n",
            "[48.          1.          1.          0.11354509  0.123       1.057\n",
            "  0.          1.37075856]\n",
            "[4.90000000e+01 1.00000000e+00 1.00000000e+00 3.58576826e-02\n",
            " 1.23000000e-01 1.05700000e+00 0.00000000e+00 1.37075856e+00]\n",
            "[5.00000000e+01 1.00000000e+00 1.00000000e+00 3.58576826e-02\n",
            " 1.23000000e-01 1.05700000e+00 0.00000000e+00 1.37075856e+00]\n",
            "[5.10000000e+01 1.00000000e+00 1.00000000e+00 3.58576826e-02\n",
            " 1.23000000e-01 1.05700000e+00 0.00000000e+00 1.37075856e+00]\n",
            "[52.          1.          1.          0.07589511  0.123       1.057\n",
            "  0.          1.37075856]\n",
            "[53.          1.          1.          0.07589511  0.123       1.057\n",
            "  0.          1.37075856]\n",
            "[5.40000000e+01 1.00000000e+00 1.00000000e+00 3.06797244e-02\n",
            " 1.23000000e-01 1.05700000e+00 0.00000000e+00 1.37075856e+00]\n",
            "[5.50000000e+01 1.00000000e+00 1.00000000e+00 3.06797244e-02\n",
            " 1.23000000e-01 1.05700000e+00 0.00000000e+00 1.37075856e+00]\n",
            "[5.60000000e+01 1.00000000e+00 1.00000000e+00 2.68003504e-02\n",
            " 1.23000000e-01 1.05700000e+00 0.00000000e+00 1.37075856e+00]\n",
            "[5.70000000e+01 1.00000000e+00 1.00000000e+00 2.68003504e-02\n",
            " 1.23000000e-01 1.05700000e+00 0.00000000e+00 1.37075856e+00]\n",
            "[5.80000000e+01 1.00000000e+00 1.00000000e+00 2.66554614e-02\n",
            " 1.23000000e-01 1.05700000e+00 0.00000000e+00 1.37075856e+00]\n",
            "[5.90000000e+01 1.00000000e+00 1.00000000e+00 2.66554614e-02\n",
            " 1.23000000e-01 1.05700000e+00 0.00000000e+00 1.37075856e+00]\n",
            "[6.00000000e+01 1.00000000e+00 1.00000000e+00 2.66530060e-02\n",
            " 1.23000000e-01 1.05700000e+00 0.00000000e+00 1.37075856e+00]\n",
            "[6.10000000e+01 1.00000000e+00 1.00000000e+00 2.66530060e-02\n",
            " 1.23000000e-01 1.05700000e+00 0.00000000e+00 1.37075856e+00]\n",
            "[6.20000000e+01 1.00000000e+00 1.00000000e+00 2.66529851e-02\n",
            " 1.23000000e-01 1.05700000e+00 0.00000000e+00 1.37075856e+00]\n",
            "[6.30000000e+01 1.00000000e+00 1.00000000e+00 2.66529851e-02\n",
            " 1.23000000e-01 1.05700000e+00 0.00000000e+00 1.37075856e+00]\n",
            "[6.40000000e+01 1.00000000e+00 1.00000000e+00 2.66528183e-02\n",
            " 1.23000000e-01 1.05700000e+00 0.00000000e+00 1.37075856e+00]\n",
            "[6.50000000e+01 1.00000000e+00 1.00000000e+00 2.66528183e-02\n",
            " 1.23000000e-01 1.05700000e+00 0.00000000e+00 1.37075856e+00]\n",
            "[6.60000000e+01 1.00000000e+00 1.00000000e+00 2.66428768e-02\n",
            " 1.23000000e-01 1.05700000e+00 0.00000000e+00 1.37075856e+00]\n",
            "[6.70000000e+01 1.00000000e+00 1.00000000e+00 2.66428768e-02\n",
            " 1.23000000e-01 1.05700000e+00 0.00000000e+00 1.37075856e+00]\n",
            "[6.80000000e+01 1.00000000e+00 1.00000000e+00 2.63707569e-02\n",
            " 1.23000000e-01 1.05700000e+00 0.00000000e+00 1.37075856e+00]\n",
            "[6.90000000e+01 1.00000000e+00 1.00000000e+00 2.63707569e-02\n",
            " 1.23000000e-01 1.05700000e+00 0.00000000e+00 1.37075856e+00]\n",
            "[7.00000000e+01 1.00000000e+00 1.00000000e+00 2.30353325e-02\n",
            " 1.23000000e-01 1.05700000e+00 0.00000000e+00 1.37075856e+00]\n",
            "[7.10000000e+01 1.00000000e+00 1.00000000e+00 2.30353325e-02\n",
            " 1.23000000e-01 1.05700000e+00 0.00000000e+00 1.37075856e+00]\n",
            "[7.20000000e+01 1.00000000e+00 1.00000000e+00 2.30353325e-02\n",
            " 1.23000000e-01 1.05700000e+00 0.00000000e+00 1.37075856e+00]\n"
          ]
        }
      ]
    }
  ]
}